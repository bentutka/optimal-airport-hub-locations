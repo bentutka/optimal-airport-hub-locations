{
  "cells": [
    {
      "cell_type": "code",
      "execution_count": null,
      "id": "i3zX9CaM_GMu",
      "metadata": {
        "colab": {
          "base_uri": "https://localhost:8080/"
        },
        "id": "i3zX9CaM_GMu",
        "outputId": "6930e0aa-6a8e-436f-e35e-5749d71f504e"
      },
      "outputs": [
        {
          "output_type": "stream",
          "name": "stdout",
          "text": [
            "Requirement already satisfied: pyomo in /usr/local/lib/python3.10/dist-packages (6.7.1)\n",
            "Requirement already satisfied: ply in /usr/local/lib/python3.10/dist-packages (from pyomo) (3.11)\n",
            "Requirement already satisfied: haversine in /usr/local/lib/python3.10/dist-packages (2.8.1)\n"
          ]
        }
      ],
      "source": [
        "!pip install pyomo\n",
        "!pip install haversine\n"
      ]
    },
    {
      "cell_type": "code",
      "execution_count": null,
      "id": "Q7FzkYLy-s-l",
      "metadata": {
        "id": "Q7FzkYLy-s-l"
      },
      "outputs": [],
      "source": [
        "\n",
        "#Install Solvers\n",
        "%%capture\n",
        "import sys\n",
        "import os\n",
        "\n",
        "if True:\n",
        "    !pip install idaes-pse --pre\n",
        "    !idaes get-extensions --to ./bin\n",
        "    os.environ['PATH'] += ':bin'"
      ]
    },
    {
      "cell_type": "code",
      "execution_count": null,
      "id": "8b8572df-4b82-44b8-860e-af4c1e0fb46e",
      "metadata": {
        "colab": {
          "base_uri": "https://localhost:8080/"
        },
        "id": "8b8572df-4b82-44b8-860e-af4c1e0fb46e",
        "outputId": "16d6479f-0050-45a8-c9ed-df7d06f63add"
      },
      "outputs": [
        {
          "output_type": "stream",
          "name": "stdout",
          "text": [
            "Drive already mounted at /content/drive; to attempt to forcibly remount, call drive.mount(\"/content/drive\", force_remount=True).\n"
          ]
        }
      ],
      "source": [
        "#!pip install pyomo\n",
        "#!pip install haversine\n",
        "import numpy as np\n",
        "import pandas as pd\n",
        "import os\n",
        "import pyomo.environ as pyo\n",
        "from haversine import haversine, Unit\n",
        "from google.colab import drive\n",
        "drive.mount('/content/drive')"
      ]
    },
    {
      "cell_type": "markdown",
      "id": "78c09a4d-1541-49f7-85a2-a4935136fa2a",
      "metadata": {
        "id": "78c09a4d-1541-49f7-85a2-a4935136fa2a"
      },
      "source": [
        "<h1>Data Import and Model Preprocessing</h1>"
      ]
    },
    {
      "cell_type": "code",
      "execution_count": null,
      "id": "8f984866-afd4-428d-ae60-e96c11cc1f94",
      "metadata": {
        "id": "8f984866-afd4-428d-ae60-e96c11cc1f94"
      },
      "outputs": [],
      "source": [
        "#airport data (already cleaned)\n",
        "#change to desired path\n",
        "ap = pd.read_csv(os.path.join(\"/\",\"content\", \"drive\", \"MyDrive\", \"OPTI_Final\", \"DataC\", \"airports.csv\"))\n",
        "ap[\"co\"] = ap.apply(lambda row: (row.lat, row.lon),axis=1)\n",
        "ap.index = ap.index + 1\n",
        "#county data (already cleaned)\n",
        "#change to desired path\n",
        "co = pd.read_csv(os.path.join(\"/\",\"content\", \"drive\", \"MyDrive\", \"OPTI_Final\", \"DataC\", \"counties.csv\"))\n",
        "co[\"co\"] = co.apply(lambda row: (row.lat, row.lon),axis=1)\n",
        "co.index = co.index + 1"
      ]
    },
    {
      "cell_type": "code",
      "execution_count": null,
      "id": "a400d922-0d85-4131-84b1-89047fe06469",
      "metadata": {
        "id": "a400d922-0d85-4131-84b1-89047fe06469"
      },
      "outputs": [],
      "source": [
        "#Sets\n",
        "I = co.index.to_list()\n",
        "J = ap.index.to_list()\n",
        "\n",
        "#Params\n",
        "D = {}\n",
        "for i in I:\n",
        "    county_loc = co.at[i, \"co\"]\n",
        "    for j in J:\n",
        "        airport_loc = ap.at[j, \"co\"]\n",
        "        D[(i,j)] = haversine(county_loc, airport_loc, unit=Unit.MILES)\n",
        "\n",
        "A = {i:co.at[i, \"pop\"] for i in I}"
      ]
    },
    {
      "cell_type": "markdown",
      "id": "46c46b0a-a286-4ec8-9f2a-947be36e7c28",
      "metadata": {
        "id": "46c46b0a-a286-4ec8-9f2a-947be36e7c28"
      },
      "source": [
        "<h1>Model</h1>"
      ]
    },
    {
      "cell_type": "code",
      "execution_count": null,
      "id": "ed4679f2-09a3-4035-a083-6318a6e42b05",
      "metadata": {
        "id": "ed4679f2-09a3-4035-a083-6318a6e42b05"
      },
      "outputs": [],
      "source": [
        "model = pyo.ConcreteModel()"
      ]
    },
    {
      "cell_type": "markdown",
      "id": "e7ddd60f-3309-474c-8f34-15daf4a29725",
      "metadata": {
        "id": "e7ddd60f-3309-474c-8f34-15daf4a29725"
      },
      "source": [
        "<h2>Indexes</h2>"
      ]
    },
    {
      "cell_type": "code",
      "execution_count": null,
      "id": "824a96fd-c846-4633-b8d8-9aede1bc9b68",
      "metadata": {
        "id": "824a96fd-c846-4633-b8d8-9aede1bc9b68"
      },
      "outputs": [],
      "source": [
        "#county index\n",
        "model.I = pyo.Set(initialize=I)\n",
        "#airport index\n",
        "model.J = pyo.Set(initialize=J)"
      ]
    },
    {
      "cell_type": "code",
      "source": [
        "print(I[0], I[-1])\n",
        "print(J[0], J[-1])"
      ],
      "metadata": {
        "colab": {
          "base_uri": "https://localhost:8080/"
        },
        "id": "YM3NeLFXf6Fe",
        "outputId": "fe6c6126-a846-49dc-fdaf-7d4d6c134d32"
      },
      "id": "YM3NeLFXf6Fe",
      "execution_count": null,
      "outputs": [
        {
          "output_type": "stream",
          "name": "stdout",
          "text": [
            "1 1086\n",
            "1 149\n"
          ]
        }
      ]
    },
    {
      "cell_type": "markdown",
      "id": "06929983-679b-467c-8d25-e7f76cdda105",
      "metadata": {
        "id": "06929983-679b-467c-8d25-e7f76cdda105"
      },
      "source": [
        "<h2>Parameters</h2>"
      ]
    },
    {
      "cell_type": "code",
      "execution_count": null,
      "id": "b69cdb3f-b522-4341-809b-22ac5b114862",
      "metadata": {
        "id": "b69cdb3f-b522-4341-809b-22ac5b114862"
      },
      "outputs": [],
      "source": [
        "#distance between airports & counties\n",
        "model.d = pyo.Param(model.I, model.J, initialize=D)\n",
        "#population supply of the counties\n",
        "model.a = pyo.Param(model.I, initialize=A)\n",
        "#number of facilities to fly out of\n",
        "model.p = pyo.Param(mutable=True, initialize=4)"
      ]
    },
    {
      "cell_type": "markdown",
      "id": "e82d6482-09dd-434e-8a98-b0f4849a5191",
      "metadata": {
        "id": "e82d6482-09dd-434e-8a98-b0f4849a5191"
      },
      "source": [
        "<h2>Decision Variables</h2>"
      ]
    },
    {
      "cell_type": "code",
      "execution_count": null,
      "id": "d5bf614e-659b-4777-bfb7-7172cccf3c91",
      "metadata": {
        "id": "d5bf614e-659b-4777-bfb7-7172cccf3c91"
      },
      "outputs": [],
      "source": [
        "model.X = pyo.Var(model.I, model.J, domain=pyo.Binary)\n",
        "model.Y = pyo.Var(model.J, domain=pyo.Binary)"
      ]
    },
    {
      "cell_type": "markdown",
      "id": "c8faaefc-7c20-4e86-aba1-b615581ab023",
      "metadata": {
        "id": "c8faaefc-7c20-4e86-aba1-b615581ab023"
      },
      "source": [
        "<h2>Objective</h2>"
      ]
    },
    {
      "cell_type": "code",
      "execution_count": null,
      "id": "7e91464a-b138-4771-9fbe-2929a987229d",
      "metadata": {
        "id": "7e91464a-b138-4771-9fbe-2929a987229d"
      },
      "outputs": [],
      "source": [
        "def obj_rule(model):\n",
        "    return(sum(sum(model.a[i]*model.d[(i,j)]*model.X[(i,j)] for j in model.J) for i in model.I))\n",
        "\n",
        "model.obj = pyo.Objective(rule=obj_rule(model), sense=pyo.minimize)"
      ]
    },
    {
      "cell_type": "markdown",
      "id": "aa94638d-fd8e-440d-8e44-d9a2d3642af7",
      "metadata": {
        "id": "aa94638d-fd8e-440d-8e44-d9a2d3642af7"
      },
      "source": [
        "<h2>Constraints</h2>"
      ]
    },
    {
      "cell_type": "code",
      "execution_count": null,
      "id": "4fb19c92-2050-4bac-94b8-f5cd1053fe71",
      "metadata": {
        "id": "4fb19c92-2050-4bac-94b8-f5cd1053fe71"
      },
      "outputs": [],
      "source": [
        "model.facility_demand_con = pyo.ConstraintList()\n",
        "for i in model.I:\n",
        "    model.facility_demand_con.add(sum(model.X[i, j] for j in model.J) == 1)"
      ]
    },
    {
      "cell_type": "code",
      "execution_count": null,
      "id": "de97bed2-f29a-4911-a108-677d4ec3f00f",
      "metadata": {
        "id": "de97bed2-f29a-4911-a108-677d4ec3f00f"
      },
      "outputs": [],
      "source": [
        "def num_facilities_constraint(model):\n",
        "    return(sum(model.Y[j] for j in model.J) == model.p)\n",
        "model.num_facilities_con = pyo.Constraint(rule=num_facilities_constraint(model))"
      ]
    },
    {
      "cell_type": "code",
      "execution_count": null,
      "id": "78f5bdc4-546a-42fc-8dcf-888d8f2af332",
      "metadata": {
        "id": "78f5bdc4-546a-42fc-8dcf-888d8f2af332"
      },
      "outputs": [],
      "source": [
        "model.demand_supplied_con = pyo.ConstraintList()\n",
        "for j in model.J:\n",
        "    for i in model.I:\n",
        "        model.demand_supplied_con.add(model.X[(i,j)] <= model.Y[j])"
      ]
    },
    {
      "cell_type": "code",
      "source": [
        "constant_airport = int(ap[ap.Fac_Name == \"BILL AND HILLARY CLINTON NATIONAL/ADAMS FIELD\"].index[0])"
      ],
      "metadata": {
        "id": "n8tLxMgL_vEM"
      },
      "id": "n8tLxMgL_vEM",
      "execution_count": null,
      "outputs": []
    },
    {
      "cell_type": "code",
      "source": [
        "model.ark_airport_constraint = pyo.Constraint(expr = model.Y[constant_airport] == 1)"
      ],
      "metadata": {
        "id": "vabXDN3C_AQy"
      },
      "id": "vabXDN3C_AQy",
      "execution_count": null,
      "outputs": []
    },
    {
      "cell_type": "code",
      "execution_count": null,
      "id": "72b49549-1e67-4156-833e-aebba964679c",
      "metadata": {
        "colab": {
          "base_uri": "https://localhost:8080/"
        },
        "id": "72b49549-1e67-4156-833e-aebba964679c",
        "outputId": "7ba04731-a1ed-41b3-e584-c150072abd0d"
      },
      "outputs": [
        {
          "output_type": "stream",
          "name": "stdout",
          "text": [
            "# ==========================================================\n",
            "# = Solver Results                                         =\n",
            "# ==========================================================\n",
            "# ----------------------------------------------------------\n",
            "#   Problem Information\n",
            "# ----------------------------------------------------------\n",
            "Problem: \n",
            "- Name: unknown\n",
            "  Lower bound: 17096282520.08644\n",
            "  Upper bound: 17096282520.08644\n",
            "  Number of objectives: 1\n",
            "  Number of constraints: 161815\n",
            "  Number of variables: 161962\n",
            "  Number of binary variables: 161963\n",
            "  Number of integer variables: 161963\n",
            "  Number of nonzeros: 161814\n",
            "  Sense: minimize\n",
            "# ----------------------------------------------------------\n",
            "#   Solver Information\n",
            "# ----------------------------------------------------------\n",
            "Solver: \n",
            "- Status: ok\n",
            "  User time: -1.0\n",
            "  System time: 26.36\n",
            "  Wallclock time: 27.17\n",
            "  Termination condition: optimal\n",
            "  Termination message: Model was solved to optimality (subject to tolerances), and an optimal solution is available.\n",
            "  Statistics: \n",
            "    Branch and bound: \n",
            "      Number of bounded subproblems: 0\n",
            "      Number of created subproblems: 0\n",
            "    Black box: \n",
            "      Number of iterations: 0\n",
            "  Error rc: 0\n",
            "  Time: 27.25191044807434\n",
            "# ----------------------------------------------------------\n",
            "#   Solution Information\n",
            "# ----------------------------------------------------------\n",
            "Solution: \n",
            "- number of solutions: 0\n",
            "  number of solutions displayed: 0\n"
          ]
        }
      ],
      "source": [
        "solver = pyo.SolverFactory('cbc')\n",
        "solver.solve(model).write()"
      ]
    },
    {
      "cell_type": "code",
      "execution_count": null,
      "id": "96fe3066-789f-4bad-86e7-29f60ba99e86",
      "metadata": {
        "colab": {
          "base_uri": "https://localhost:8080/"
        },
        "id": "96fe3066-789f-4bad-86e7-29f60ba99e86",
        "outputId": "14d57a74-6e17-42da-833f-9d052bef1c53"
      },
      "outputs": [
        {
          "output_type": "stream",
          "name": "stdout",
          "text": [
            "Y : Size=149, Index=J\n",
            "    Key : Lower : Value : Upper : Fixed : Stale : Domain\n",
            "      1 :     0 :   0.0 :     1 : False : False : Binary\n",
            "      2 :     0 :   0.0 :     1 : False : False : Binary\n",
            "      3 :     0 :   0.0 :     1 : False : False : Binary\n",
            "      4 :     0 :   0.0 :     1 : False : False : Binary\n",
            "      5 :     0 :   0.0 :     1 : False : False : Binary\n",
            "      6 :     0 :   1.0 :     1 : False : False : Binary\n",
            "      7 :     0 :   0.0 :     1 : False : False : Binary\n",
            "      8 :     0 :   0.0 :     1 : False : False : Binary\n",
            "      9 :     0 :   0.0 :     1 : False : False : Binary\n",
            "     10 :     0 :   0.0 :     1 : False : False : Binary\n",
            "     11 :     0 :   0.0 :     1 : False : False : Binary\n",
            "     12 :     0 :   0.0 :     1 : False : False : Binary\n",
            "     13 :     0 :   0.0 :     1 : False : False : Binary\n",
            "     14 :     0 :   0.0 :     1 : False : False : Binary\n",
            "     15 :     0 :   0.0 :     1 : False : False : Binary\n",
            "     16 :     0 :   0.0 :     1 : False : False : Binary\n",
            "     17 :     0 :   0.0 :     1 : False : False : Binary\n",
            "     18 :     0 :   0.0 :     1 : False : False : Binary\n",
            "     19 :     0 :   0.0 :     1 : False : False : Binary\n",
            "     20 :     0 :   0.0 :     1 : False : False : Binary\n",
            "     21 :     0 :   0.0 :     1 : False : False : Binary\n",
            "     22 :     0 :   0.0 :     1 : False : False : Binary\n",
            "     23 :     0 :   0.0 :     1 : False : False : Binary\n",
            "     24 :     0 :   0.0 :     1 : False : False : Binary\n",
            "     25 :     0 :   0.0 :     1 : False : False : Binary\n",
            "     26 :     0 :   0.0 :     1 : False : False : Binary\n",
            "     27 :     0 :   0.0 :     1 : False : False : Binary\n",
            "     28 :     0 :   0.0 :     1 : False : False : Binary\n",
            "     29 :     0 :   0.0 :     1 : False : False : Binary\n",
            "     30 :     0 :   0.0 :     1 : False : False : Binary\n",
            "     31 :     0 :   0.0 :     1 : False : False : Binary\n",
            "     32 :     0 :   0.0 :     1 : False : False : Binary\n",
            "     33 :     0 :   0.0 :     1 : False : False : Binary\n",
            "     34 :     0 :   0.0 :     1 : False : False : Binary\n",
            "     35 :     0 :   0.0 :     1 : False : False : Binary\n",
            "     36 :     0 :   0.0 :     1 : False : False : Binary\n",
            "     37 :     0 :   0.0 :     1 : False : False : Binary\n",
            "     38 :     0 :   0.0 :     1 : False : False : Binary\n",
            "     39 :     0 :   0.0 :     1 : False : False : Binary\n",
            "     40 :     0 :   0.0 :     1 : False : False : Binary\n",
            "     41 :     0 :   0.0 :     1 : False : False : Binary\n",
            "     42 :     0 :   0.0 :     1 : False : False : Binary\n",
            "     43 :     0 :   0.0 :     1 : False : False : Binary\n",
            "     44 :     0 :   0.0 :     1 : False : False : Binary\n",
            "     45 :     0 :   0.0 :     1 : False : False : Binary\n",
            "     46 :     0 :   0.0 :     1 : False : False : Binary\n",
            "     47 :     0 :   0.0 :     1 : False : False : Binary\n",
            "     48 :     0 :   0.0 :     1 : False : False : Binary\n",
            "     49 :     0 :   0.0 :     1 : False : False : Binary\n",
            "     50 :     0 :   0.0 :     1 : False : False : Binary\n",
            "     51 :     0 :   1.0 :     1 : False : False : Binary\n",
            "     52 :     0 :   0.0 :     1 : False : False : Binary\n",
            "     53 :     0 :   0.0 :     1 : False : False : Binary\n",
            "     54 :     0 :   0.0 :     1 : False : False : Binary\n",
            "     55 :     0 :   0.0 :     1 : False : False : Binary\n",
            "     56 :     0 :   0.0 :     1 : False : False : Binary\n",
            "     57 :     0 :   0.0 :     1 : False : False : Binary\n",
            "     58 :     0 :   0.0 :     1 : False : False : Binary\n",
            "     59 :     0 :   0.0 :     1 : False : False : Binary\n",
            "     60 :     0 :   0.0 :     1 : False : False : Binary\n",
            "     61 :     0 :   0.0 :     1 : False : False : Binary\n",
            "     62 :     0 :   0.0 :     1 : False : False : Binary\n",
            "     63 :     0 :   0.0 :     1 : False : False : Binary\n",
            "     64 :     0 :   0.0 :     1 : False : False : Binary\n",
            "     65 :     0 :   0.0 :     1 : False : False : Binary\n",
            "     66 :     0 :   0.0 :     1 : False : False : Binary\n",
            "     67 :     0 :   0.0 :     1 : False : False : Binary\n",
            "     68 :     0 :   0.0 :     1 : False : False : Binary\n",
            "     69 :     0 :   0.0 :     1 : False : False : Binary\n",
            "     70 :     0 :   0.0 :     1 : False : False : Binary\n",
            "     71 :     0 :   0.0 :     1 : False : False : Binary\n",
            "     72 :     0 :   0.0 :     1 : False : False : Binary\n",
            "     73 :     0 :   0.0 :     1 : False : False : Binary\n",
            "     74 :     0 :   0.0 :     1 : False : False : Binary\n",
            "     75 :     0 :   0.0 :     1 : False : False : Binary\n",
            "     76 :     0 :   0.0 :     1 : False : False : Binary\n",
            "     77 :     0 :   0.0 :     1 : False : False : Binary\n",
            "     78 :     0 :   0.0 :     1 : False : False : Binary\n",
            "     79 :     0 :   0.0 :     1 : False : False : Binary\n",
            "     80 :     0 :   0.0 :     1 : False : False : Binary\n",
            "     81 :     0 :   0.0 :     1 : False : False : Binary\n",
            "     82 :     0 :   0.0 :     1 : False : False : Binary\n",
            "     83 :     0 :   0.0 :     1 : False : False : Binary\n",
            "     84 :     0 :   0.0 :     1 : False : False : Binary\n",
            "     85 :     0 :   0.0 :     1 : False : False : Binary\n",
            "     86 :     0 :   0.0 :     1 : False : False : Binary\n",
            "     87 :     0 :   0.0 :     1 : False : False : Binary\n",
            "     88 :     0 :   0.0 :     1 : False : False : Binary\n",
            "     89 :     0 :   0.0 :     1 : False : False : Binary\n",
            "     90 :     0 :   0.0 :     1 : False : False : Binary\n",
            "     91 :     0 :   0.0 :     1 : False : False : Binary\n",
            "     92 :     0 :   0.0 :     1 : False : False : Binary\n",
            "     93 :     0 :   1.0 :     1 : False : False : Binary\n",
            "     94 :     0 :   0.0 :     1 : False : False : Binary\n",
            "     95 :     0 :   0.0 :     1 : False : False : Binary\n",
            "     96 :     0 :   0.0 :     1 : False : False : Binary\n",
            "     97 :     0 :   0.0 :     1 : False : False : Binary\n",
            "     98 :     0 :   0.0 :     1 : False : False : Binary\n",
            "     99 :     0 :   0.0 :     1 : False : False : Binary\n",
            "    100 :     0 :   0.0 :     1 : False : False : Binary\n",
            "    101 :     0 :   0.0 :     1 : False : False : Binary\n",
            "    102 :     0 :   0.0 :     1 : False : False : Binary\n",
            "    103 :     0 :   0.0 :     1 : False : False : Binary\n",
            "    104 :     0 :   0.0 :     1 : False : False : Binary\n",
            "    105 :     0 :   0.0 :     1 : False : False : Binary\n",
            "    106 :     0 :   0.0 :     1 : False : False : Binary\n",
            "    107 :     0 :   0.0 :     1 : False : False : Binary\n",
            "    108 :     0 :   0.0 :     1 : False : False : Binary\n",
            "    109 :     0 :   0.0 :     1 : False : False : Binary\n",
            "    110 :     0 :   0.0 :     1 : False : False : Binary\n",
            "    111 :     0 :   0.0 :     1 : False : False : Binary\n",
            "    112 :     0 :   0.0 :     1 : False : False : Binary\n",
            "    113 :     0 :   0.0 :     1 : False : False : Binary\n",
            "    114 :     0 :   0.0 :     1 : False : False : Binary\n",
            "    115 :     0 :   0.0 :     1 : False : False : Binary\n",
            "    116 :     0 :   0.0 :     1 : False : False : Binary\n",
            "    117 :     0 :   0.0 :     1 : False : False : Binary\n",
            "    118 :     0 :   0.0 :     1 : False : False : Binary\n",
            "    119 :     0 :   0.0 :     1 : False : False : Binary\n",
            "    120 :     0 :   0.0 :     1 : False : False : Binary\n",
            "    121 :     0 :   0.0 :     1 : False : False : Binary\n",
            "    122 :     0 :   0.0 :     1 : False : False : Binary\n",
            "    123 :     0 :   0.0 :     1 : False : False : Binary\n",
            "    124 :     0 :   0.0 :     1 : False : False : Binary\n",
            "    125 :     0 :   0.0 :     1 : False : False : Binary\n",
            "    126 :     0 :   0.0 :     1 : False : False : Binary\n",
            "    127 :     0 :   0.0 :     1 : False : False : Binary\n",
            "    128 :     0 :   0.0 :     1 : False : False : Binary\n",
            "    129 :     0 :   0.0 :     1 : False : False : Binary\n",
            "    130 :     0 :   0.0 :     1 : False : False : Binary\n",
            "    131 :     0 :   0.0 :     1 : False : False : Binary\n",
            "    132 :     0 :   1.0 :     1 : False : False : Binary\n",
            "    133 :     0 :   0.0 :     1 : False : False : Binary\n",
            "    134 :     0 :   0.0 :     1 : False : False : Binary\n",
            "    135 :     0 :   0.0 :     1 : False : False : Binary\n",
            "    136 :     0 :   0.0 :     1 : False : False : Binary\n",
            "    137 :     0 :   0.0 :     1 : False : False : Binary\n",
            "    138 :     0 :   0.0 :     1 : False : False : Binary\n",
            "    139 :     0 :   0.0 :     1 : False : False : Binary\n",
            "    140 :     0 :   0.0 :     1 : False : False : Binary\n",
            "    141 :     0 :   0.0 :     1 : False : False : Binary\n",
            "    142 :     0 :   0.0 :     1 : False : False : Binary\n",
            "    143 :     0 :   0.0 :     1 : False : False : Binary\n",
            "    144 :     0 :   0.0 :     1 : False : False : Binary\n",
            "    145 :     0 :   0.0 :     1 : False : False : Binary\n",
            "    146 :     0 :   0.0 :     1 : False : False : Binary\n",
            "    147 :     0 :   0.0 :     1 : False : False : Binary\n",
            "    148 :     0 :   0.0 :     1 : False : False : Binary\n",
            "    149 :     0 :   0.0 :     1 : False : False : Binary\n"
          ]
        }
      ],
      "source": [
        "model.Y.pprint()"
      ]
    },
    {
      "cell_type": "code",
      "execution_count": null,
      "id": "sXo8iF5vSgbM",
      "metadata": {
        "colab": {
          "base_uri": "https://localhost:8080/"
        },
        "id": "sXo8iF5vSgbM",
        "outputId": "03324a4a-374b-42d5-ad87-ef6e69238c11"
      },
      "outputs": [
        {
          "output_type": "stream",
          "name": "stdout",
          "text": [
            "Optimal airport: 6, LAKELAND LINDER INTL\n",
            "Optimal airport: 51, BILL AND HILLARY CLINTON NATIONAL/ADAMS FIELD\n",
            "Optimal airport: 93, ANDERSON RGNL\n",
            "Optimal airport: 132, EASTERWOOD FIELD\n"
          ]
        }
      ],
      "source": [
        "for j in model.J:\n",
        "  if pyo.value(model.Y[j]) == 1:\n",
        "    print(f\"Optimal airport: {j}, {ap.at[j, 'Fac_Name']}\")"
      ]
    },
    {
      "cell_type": "code",
      "source": [
        "avg = pyo.value(model.obj)/co[\"pop\"].sum()\n",
        "print(f\"Average distance from airport: {round(avg,3)}\")"
      ],
      "metadata": {
        "id": "NU7AkSTVAwxd",
        "colab": {
          "base_uri": "https://localhost:8080/"
        },
        "outputId": "0121122b-fe2d-4462-fccd-9ed7bd6824d7"
      },
      "id": "NU7AkSTVAwxd",
      "execution_count": null,
      "outputs": [
        {
          "output_type": "stream",
          "name": "stdout",
          "text": [
            "Average distance from airport: 165.216\n"
          ]
        }
      ]
    }
  ],
  "metadata": {
    "colab": {
      "provenance": []
    },
    "kernelspec": {
      "display_name": "Python 3 (ipykernel)",
      "language": "python",
      "name": "python3"
    },
    "language_info": {
      "codemirror_mode": {
        "name": "ipython",
        "version": 3
      },
      "file_extension": ".py",
      "mimetype": "text/x-python",
      "name": "python",
      "nbconvert_exporter": "python",
      "pygments_lexer": "ipython3",
      "version": "3.11.7"
    }
  },
  "nbformat": 4,
  "nbformat_minor": 5
}
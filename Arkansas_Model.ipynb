{
  "nbformat": 4,
  "nbformat_minor": 0,
  "metadata": {
    "colab": {
      "provenance": []
    },
    "kernelspec": {
      "name": "python3",
      "display_name": "Python 3"
    },
    "language_info": {
      "name": "python"
    }
  },
  "cells": [
    {
      "cell_type": "code",
      "execution_count": 1,
      "metadata": {
        "colab": {
          "base_uri": "https://localhost:8080/"
        },
        "id": "iSaynSfY62Ym",
        "outputId": "4e574dc2-01b1-466a-c629-c53c26bcd913"
      },
      "outputs": [
        {
          "output_type": "stream",
          "name": "stdout",
          "text": [
            "Collecting pyomo\n",
            "  Downloading Pyomo-6.7.1-cp310-cp310-manylinux_2_17_x86_64.manylinux2014_x86_64.whl (12.7 MB)\n",
            "\u001b[2K     \u001b[90m━━━━━━━━━━━━━━━━━━━━━━━━━━━━━━━━━━━━━━━━\u001b[0m \u001b[32m12.7/12.7 MB\u001b[0m \u001b[31m37.8 MB/s\u001b[0m eta \u001b[36m0:00:00\u001b[0m\n",
            "\u001b[?25hCollecting ply (from pyomo)\n",
            "  Downloading ply-3.11-py2.py3-none-any.whl (49 kB)\n",
            "\u001b[2K     \u001b[90m━━━━━━━━━━━━━━━━━━━━━━━━━━━━━━━━━━━━━━━━\u001b[0m \u001b[32m49.6/49.6 kB\u001b[0m \u001b[31m1.7 MB/s\u001b[0m eta \u001b[36m0:00:00\u001b[0m\n",
            "\u001b[?25hInstalling collected packages: ply, pyomo\n",
            "Successfully installed ply-3.11 pyomo-6.7.1\n",
            "Collecting haversine\n",
            "  Downloading haversine-2.8.1-py2.py3-none-any.whl (7.7 kB)\n",
            "Installing collected packages: haversine\n",
            "Successfully installed haversine-2.8.1\n"
          ]
        }
      ],
      "source": [
        "!pip install pyomo\n",
        "!pip install haversine\n"
      ]
    },
    {
      "cell_type": "code",
      "source": [
        "#Install Solvers\n",
        "%%capture\n",
        "import sys\n",
        "import os\n",
        "\n",
        "if True:\n",
        "    !pip install idaes-pse --pre\n",
        "    !idaes get-extensions --to ./bin\n",
        "    os.environ['PATH'] += ':bin'"
      ],
      "metadata": {
        "id": "VoVGwJEz7B2Q"
      },
      "execution_count": 2,
      "outputs": []
    },
    {
      "cell_type": "code",
      "source": [
        "import numpy as np\n",
        "import pandas as pd\n",
        "import os\n",
        "import pyomo.environ as pyo\n",
        "from haversine import haversine, Unit\n",
        "from google.colab import drive\n",
        "drive.mount('/content/drive')"
      ],
      "metadata": {
        "colab": {
          "base_uri": "https://localhost:8080/"
        },
        "id": "EPia1jcj7EwY",
        "outputId": "097a4859-42d0-49c4-e3f9-ade320e03129"
      },
      "execution_count": 3,
      "outputs": [
        {
          "output_type": "stream",
          "name": "stdout",
          "text": [
            "Mounted at /content/drive\n"
          ]
        }
      ]
    },
    {
      "cell_type": "code",
      "source": [
        "#airport data (already cleaned)\n",
        "#change to desired path\n",
        "ap = pd.read_csv(os.path.join(\"/\",\"content\", \"drive\", \"MyDrive\", \"OPTI_Final\", \"DataC\", \"arAirports.csv\"))\n",
        "ap[\"co\"] = ap.apply(lambda row: (row.lat, row.lon),axis=1)\n",
        "ap.index = ap.index + 1\n",
        "#county data (already cleaned)\n",
        "#change to desired path\n",
        "co = pd.read_csv(os.path.join(\"/\",\"content\", \"drive\", \"MyDrive\", \"OPTI_Final\", \"DataC\", \"arCounties.csv\"))\n",
        "co[\"co\"] = co.apply(lambda row: (row.lat, row.lon),axis=1)\n",
        "co.index = co.index + 1"
      ],
      "metadata": {
        "id": "uKhzN6SW85ub"
      },
      "execution_count": 4,
      "outputs": []
    },
    {
      "cell_type": "code",
      "source": [
        "#Sets\n",
        "I = co.index.to_list()\n",
        "J = ap.index.to_list()\n",
        "\n",
        "#Params\n",
        "D = {}\n",
        "for i in I:\n",
        "    county_loc = co.at[i, \"co\"]\n",
        "    for j in J:\n",
        "        airport_loc = ap.at[j, \"co\"]\n",
        "        D[(i,j)] = haversine(county_loc, airport_loc, unit=Unit.MILES)\n",
        "\n",
        "A = {i:co.at[i, \"pop\"] for i in I}"
      ],
      "metadata": {
        "id": "QBvuI1uq9uog"
      },
      "execution_count": 5,
      "outputs": []
    },
    {
      "cell_type": "code",
      "source": [
        "model = pyo.ConcreteModel()"
      ],
      "metadata": {
        "id": "N_gVCnap93hq"
      },
      "execution_count": 6,
      "outputs": []
    },
    {
      "cell_type": "code",
      "source": [
        "#county index\n",
        "model.I = pyo.Set(initialize=I)\n",
        "#airport index\n",
        "model.J = pyo.Set(initialize=J)"
      ],
      "metadata": {
        "id": "5dEjRWuu95G0"
      },
      "execution_count": 7,
      "outputs": []
    },
    {
      "cell_type": "code",
      "source": [
        "print(I[0], I[-1])\n",
        "print(J[0], J[-1])"
      ],
      "metadata": {
        "colab": {
          "base_uri": "https://localhost:8080/"
        },
        "id": "_SCOdDA3fnYy",
        "outputId": "1520f113-1813-43e4-f3d1-486eeec556a0"
      },
      "execution_count": 8,
      "outputs": [
        {
          "output_type": "stream",
          "name": "stdout",
          "text": [
            "1 75\n",
            "1 7\n"
          ]
        }
      ]
    },
    {
      "cell_type": "code",
      "source": [
        "#distance between airports & counties\n",
        "model.d = pyo.Param(model.I, model.J, initialize=D)\n",
        "#population supply of the counties\n",
        "model.a = pyo.Param(model.I, initialize=A)\n",
        "#number of facilities to fly out of\n",
        "model.p = pyo.Param(mutable=True, initialize=1)"
      ],
      "metadata": {
        "id": "XcektA2T98vX"
      },
      "execution_count": 9,
      "outputs": []
    },
    {
      "cell_type": "code",
      "source": [
        "model.X = pyo.Var(model.I, model.J, domain=pyo.Binary)\n",
        "model.Y = pyo.Var(model.J, domain=pyo.Binary)"
      ],
      "metadata": {
        "id": "nl9gTN9g-Ct-"
      },
      "execution_count": 10,
      "outputs": []
    },
    {
      "cell_type": "code",
      "source": [
        "def obj_rule(model):\n",
        "    return(sum(sum(model.a[i]*model.d[(i,j)]*model.X[(i,j)] for j in model.J) for i in model.I))\n",
        "\n",
        "model.obj = pyo.Objective(rule=obj_rule(model), sense=pyo.minimize)"
      ],
      "metadata": {
        "id": "R6dk_gU2-F4u"
      },
      "execution_count": 11,
      "outputs": []
    },
    {
      "cell_type": "code",
      "source": [
        "model.facility_demand_con = pyo.ConstraintList()\n",
        "for i in model.I:\n",
        "    model.facility_demand_con.add(sum(model.X[i, j] for j in model.J) == 1)"
      ],
      "metadata": {
        "id": "eqdd6ztN-IY5"
      },
      "execution_count": 12,
      "outputs": []
    },
    {
      "cell_type": "code",
      "source": [
        "def num_facilities_constraint(model):\n",
        "    return(sum(model.Y[j] for j in model.J) == model.p)\n",
        "model.num_facilities_con = pyo.Constraint(rule=num_facilities_constraint(model))"
      ],
      "metadata": {
        "id": "BYQ8bbLI-Lad"
      },
      "execution_count": 13,
      "outputs": []
    },
    {
      "cell_type": "code",
      "source": [
        "model.demand_supplied_con = pyo.ConstraintList()\n",
        "for j in model.J:\n",
        "    for i in model.I:\n",
        "        model.demand_supplied_con.add(model.X[(i,j)] <= model.Y[j])"
      ],
      "metadata": {
        "id": "ePGeFfk5-NWJ"
      },
      "execution_count": 14,
      "outputs": []
    },
    {
      "cell_type": "code",
      "source": [
        "solver = pyo.SolverFactory('cbc')\n",
        "solver.solve(model).write()"
      ],
      "metadata": {
        "colab": {
          "base_uri": "https://localhost:8080/"
        },
        "id": "LsbZLKaK-QA0",
        "outputId": "a00d0951-3b88-4b33-9995-c58a64fce11b"
      },
      "execution_count": 15,
      "outputs": [
        {
          "output_type": "stream",
          "name": "stdout",
          "text": [
            "# ==========================================================\n",
            "# = Solver Results                                         =\n",
            "# ==========================================================\n",
            "# ----------------------------------------------------------\n",
            "#   Problem Information\n",
            "# ----------------------------------------------------------\n",
            "Problem: \n",
            "- Name: unknown\n",
            "  Lower bound: 256218129.66539758\n",
            "  Upper bound: 256218129.66539758\n",
            "  Number of objectives: 1\n",
            "  Number of constraints: 601\n",
            "  Number of variables: 532\n",
            "  Number of binary variables: 532\n",
            "  Number of integer variables: 532\n",
            "  Number of nonzeros: 525\n",
            "  Sense: minimize\n",
            "# ----------------------------------------------------------\n",
            "#   Solver Information\n",
            "# ----------------------------------------------------------\n",
            "Solver: \n",
            "- Status: ok\n",
            "  User time: -1.0\n",
            "  System time: 0.06\n",
            "  Wallclock time: 0.06\n",
            "  Termination condition: optimal\n",
            "  Termination message: Model was solved to optimality (subject to tolerances), and an optimal solution is available.\n",
            "  Statistics: \n",
            "    Branch and bound: \n",
            "      Number of bounded subproblems: 0\n",
            "      Number of created subproblems: 0\n",
            "    Black box: \n",
            "      Number of iterations: 0\n",
            "  Error rc: 0\n",
            "  Time: 0.1313331127166748\n",
            "# ----------------------------------------------------------\n",
            "#   Solution Information\n",
            "# ----------------------------------------------------------\n",
            "Solution: \n",
            "- number of solutions: 0\n",
            "  number of solutions displayed: 0\n"
          ]
        }
      ]
    },
    {
      "cell_type": "code",
      "source": [
        "model.Y.pprint()"
      ],
      "metadata": {
        "colab": {
          "base_uri": "https://localhost:8080/"
        },
        "id": "N44-6ZuU-Tf9",
        "outputId": "9eb628c9-d116-45dc-f0cf-7e40e93b323c"
      },
      "execution_count": 16,
      "outputs": [
        {
          "output_type": "stream",
          "name": "stdout",
          "text": [
            "Y : Size=7, Index=J\n",
            "    Key : Lower : Value : Upper : Fixed : Stale : Domain\n",
            "      1 :     0 :   0.0 :     1 : False : False : Binary\n",
            "      2 :     0 :   0.0 :     1 : False : False : Binary\n",
            "      3 :     0 :   0.0 :     1 : False : False : Binary\n",
            "      4 :     0 :   0.0 :     1 : False : False : Binary\n",
            "      5 :     0 :   0.0 :     1 : False : False : Binary\n",
            "      6 :     0 :   0.0 :     1 : False : False : Binary\n",
            "      7 :     0 :   1.0 :     1 : False : False : Binary\n"
          ]
        }
      ]
    },
    {
      "cell_type": "code",
      "source": [
        "for j in model.J:\n",
        "  if pyo.value(model.Y[j]) == 1:\n",
        "    print(f\"Good airport: {j}, {ap.at[j, 'Fac_Name']}\")"
      ],
      "metadata": {
        "colab": {
          "base_uri": "https://localhost:8080/"
        },
        "id": "iiLQSf5u-WPF",
        "outputId": "f179f3ce-d006-4db1-fb86-182527fe6dc2"
      },
      "execution_count": 17,
      "outputs": [
        {
          "output_type": "stream",
          "name": "stdout",
          "text": [
            "Good airport: 7, BILL AND HILLARY CLINTON NATIONAL/ADAMS FIELD\n"
          ]
        }
      ]
    }
  ]
}